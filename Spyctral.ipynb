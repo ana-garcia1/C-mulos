{
  "cells": [
    {
      "cell_type": "markdown",
      "metadata": {
        "id": "view-in-github",
        "colab_type": "text"
      },
      "source": [
        "<a href=\"https://colab.research.google.com/github/ana-garcia1/C-mulos/blob/main/Spyctral.ipynb\" target=\"_parent\"><img src=\"https://colab.research.google.com/assets/colab-badge.svg\" alt=\"Open In Colab\"/></a>"
      ]
    },
    {
      "cell_type": "code",
      "execution_count": 1,
      "id": "8619a230-8b4b-4548-8eb6-a1c5d5aeb594",
      "metadata": {
        "colab": {
          "base_uri": "https://localhost:8080/",
          "height": 384
        },
        "id": "8619a230-8b4b-4548-8eb6-a1c5d5aeb594",
        "outputId": "19b22179-5d1c-49f7-cd6e-b1440746a6d0"
      },
      "outputs": [
        {
          "output_type": "error",
          "ename": "ModuleNotFoundError",
          "evalue": "No module named 'spyctral'",
          "traceback": [
            "\u001b[0;31m---------------------------------------------------------------------------\u001b[0m",
            "\u001b[0;31mModuleNotFoundError\u001b[0m                       Traceback (most recent call last)",
            "\u001b[0;32m<ipython-input-1-ba69aaf05dec>\u001b[0m in \u001b[0;36m<cell line: 0>\u001b[0;34m()\u001b[0m\n\u001b[0;32m----> 1\u001b[0;31m \u001b[0;32mimport\u001b[0m \u001b[0mspyctral\u001b[0m \u001b[0;32mas\u001b[0m \u001b[0mspy\u001b[0m\u001b[0;34m\u001b[0m\u001b[0;34m\u001b[0m\u001b[0m\n\u001b[0m\u001b[1;32m      2\u001b[0m \u001b[0;32mimport\u001b[0m \u001b[0mnumpy\u001b[0m \u001b[0;32mas\u001b[0m \u001b[0mnp\u001b[0m\u001b[0;34m\u001b[0m\u001b[0;34m\u001b[0m\u001b[0m\n\u001b[1;32m      3\u001b[0m \u001b[0;32mimport\u001b[0m \u001b[0mos\u001b[0m\u001b[0;34m\u001b[0m\u001b[0;34m\u001b[0m\u001b[0m\n\u001b[1;32m      4\u001b[0m \u001b[0;32mimport\u001b[0m \u001b[0mcsv\u001b[0m\u001b[0;34m\u001b[0m\u001b[0;34m\u001b[0m\u001b[0m\n\u001b[1;32m      5\u001b[0m \u001b[0;32mimport\u001b[0m \u001b[0mmatplotlib\u001b[0m\u001b[0;34m.\u001b[0m\u001b[0mpyplot\u001b[0m \u001b[0;32mas\u001b[0m \u001b[0mplt\u001b[0m\u001b[0;34m\u001b[0m\u001b[0;34m\u001b[0m\u001b[0m\n",
            "\u001b[0;31mModuleNotFoundError\u001b[0m: No module named 'spyctral'",
            "",
            "\u001b[0;31m---------------------------------------------------------------------------\u001b[0;32m\nNOTE: If your import is failing due to a missing package, you can\nmanually install dependencies using either !pip or !apt.\n\nTo view examples of installing some common dependencies, click the\n\"Open Examples\" button below.\n\u001b[0;31m---------------------------------------------------------------------------\u001b[0m\n"
          ],
          "errorDetails": {
            "actions": [
              {
                "action": "open_url",
                "actionText": "Open Examples",
                "url": "/notebooks/snippets/importing_libraries.ipynb"
              }
            ]
          }
        }
      ],
      "source": [
        "import spyctral as spy\n",
        "import numpy as np\n",
        "import os\n",
        "import csv\n",
        "import matplotlib.pyplot as plt"
      ]
    },
    {
      "cell_type": "code",
      "source": [
        "!pip install spyctral"
      ],
      "metadata": {
        "colab": {
          "base_uri": "https://localhost:8080/"
        },
        "id": "DOrJuj4_1ti0",
        "outputId": "3f22d471-d5bb-4099-8cef-0c4b16bffbc0"
      },
      "id": "DOrJuj4_1ti0",
      "execution_count": 2,
      "outputs": [
        {
          "output_type": "stream",
          "name": "stdout",
          "text": [
            "\u001b[31mERROR: Could not find a version that satisfies the requirement spyctral (from versions: none)\u001b[0m\u001b[31m\n",
            "\u001b[0m\u001b[31mERROR: No matching distribution found for spyctral\u001b[0m\u001b[31m\n",
            "\u001b[0m"
          ]
        }
      ]
    },
    {
      "cell_type": "code",
      "execution_count": null,
      "id": "9f85fd8d-283f-403f-a213-afd5868a9043",
      "metadata": {
        "id": "9f85fd8d-283f-403f-a213-afd5868a9043"
      },
      "outputs": [],
      "source": [
        "folder_files_path ='/home/anitagarcia/Starlight/2025/Out'"
      ]
    },
    {
      "cell_type": "code",
      "execution_count": null,
      "id": "20d1694b-6b15-4d40-ba10-c638cda342f1",
      "metadata": {
        "id": "20d1694b-6b15-4d40-ba10-c638cda342f1"
      },
      "outputs": [],
      "source": [
        "files_list  = [f for f in os.listdir(folder_files_path) if os.path.isfile(os.path.join(folder_files_path, f))]"
      ]
    },
    {
      "cell_type": "code",
      "execution_count": null,
      "id": "39bf156f-9951-4bc1-b592-65efed007121",
      "metadata": {
        "id": "39bf156f-9951-4bc1-b592-65efed007121",
        "outputId": "4c034d32-ea4b-4faf-e27a-77eed3684f50"
      },
      "outputs": [
        {
          "data": {
            "text/plain": [
              "['ESO430_09.out',\n",
              " 'Alessi18.out',\n",
              " 'ESO445_74.out',\n",
              " 'ESO518_03.out',\n",
              " 'Archinal1.out',\n",
              " 'ngc6204.out',\n",
              " 'Be82.out',\n",
              " 'ESO312_04.out',\n",
              " 'ESO435_48.out',\n",
              " 'BH92.out']"
            ]
          },
          "execution_count": 18,
          "metadata": {},
          "output_type": "execute_result"
        }
      ],
      "source": [
        "files_list"
      ]
    },
    {
      "cell_type": "code",
      "execution_count": null,
      "id": "1232ea4b-3661-44e0-aaf3-be1058f2c121",
      "metadata": {
        "id": "1232ea4b-3661-44e0-aaf3-be1058f2c121"
      },
      "outputs": [],
      "source": [
        "ss_objects = {}\n",
        "for idx, file in enumerate(files_list):\n",
        "    var_name = f\"ss_obj_{idx}\"\n",
        "    ss_objects[var_name] = spy.read_starlight(f'{folder_files_path}/{file}', object_name=file)"
      ]
    },
    {
      "cell_type": "code",
      "execution_count": null,
      "id": "fdd7fa13-9afd-4f5c-bcb1-8c1277ad15ca",
      "metadata": {
        "id": "fdd7fa13-9afd-4f5c-bcb1-8c1277ad15ca",
        "outputId": "9fb1e63a-ab33-44e3-fcb8-c76c1eeb6d4c"
      },
      "outputs": [
        {
          "data": {
            "text/plain": [
              "10"
            ]
          },
          "execution_count": 21,
          "metadata": {},
          "output_type": "execute_result"
        }
      ],
      "source": [
        "len(ss_objects)"
      ]
    },
    {
      "cell_type": "code",
      "execution_count": null,
      "id": "fd6a33b9-045e-431c-b888-f43b61a417c1",
      "metadata": {
        "id": "fd6a33b9-045e-431c-b888-f43b61a417c1",
        "outputId": "e389cc7a-90b5-441f-e74d-544fbb223825"
      },
      "outputs": [
        {
          "data": {
            "text/plain": [
              "<SpectralSummary(\n",
              "  header={Date, Cid@UFSC, arq_obs, arq_base, arq_masks, arq_config, N_base, N_YAV_components, i_FitPowerLaw, alpha_PowerLaw, red_law_option, q_norm, l_ini, l_fin, dl, l_norm, llow_norm, lupp_norm, fobs_norm, llow_SN, lupp_SN, S_N_in_S_N_window, S_N_in_norm_window, S_N_err_in_S_N_window, S_N_err_in_norm_window, fscale_chi2, idum_orig, NOl_eff, Nl_eff, Ntot_cliped, clip_method, Nglobal_steps, N_chains, NEX0s_base, Clip_Bug, RC_Crash, Burn_In, n_censored_weights, wei_nsig_threshold, wei_limit, idt_all, wdt_TotTime, wdt_UsrTime, wdt_SysTime, chi2_Nl_eff, adev, sum_of_x, Flux_tot, Mini_tot, Mcor_tot, v0_min, vd_min, AV_min, YAV_min, Nl_obs},\n",
              "  data={synthetic_spectrum, synthetic_results, results_average_chains_xj, results_average_chains_mj, results_average_chains_Av_chi2_mass},\n",
              "  age, reddening, av_value, normalization_point, z_value,\n",
              "  spectra={synthetic_spectrum, observed_spectrum, residual_spectrum},\n",
              "  extra_info={xj_percent, age_decimals, rv, z_decimals, ssps_vector, synthesis_info, average_log_age})>"
            ]
          },
          "execution_count": 23,
          "metadata": {},
          "output_type": "execute_result"
        }
      ],
      "source": [
        "#el primero\n",
        "ss_objects['ss_obj_0']"
      ]
    },
    {
      "cell_type": "code",
      "execution_count": null,
      "id": "c5a98024-2e0c-4ea6-a0a6-7b0d3df7a362",
      "metadata": {
        "id": "c5a98024-2e0c-4ea6-a0a6-7b0d3df7a362",
        "outputId": "5a4ce8a0-0e00-4b51-f969-2753a708b83e"
      },
      "outputs": [
        {
          "data": {
            "text/plain": [
              "<SpectralSummary(\n",
              "  header={Date, Cid@UFSC, arq_obs, arq_base, arq_masks, arq_config, N_base, N_YAV_components, i_FitPowerLaw, alpha_PowerLaw, red_law_option, q_norm, l_ini, l_fin, dl, l_norm, llow_norm, lupp_norm, fobs_norm, llow_SN, lupp_SN, S_N_in_S_N_window, S_N_in_norm_window, S_N_err_in_S_N_window, S_N_err_in_norm_window, fscale_chi2, idum_orig, NOl_eff, Nl_eff, Ntot_cliped, clip_method, Nglobal_steps, N_chains, NEX0s_base, Clip_Bug, RC_Crash, Burn_In, n_censored_weights, wei_nsig_threshold, wei_limit, idt_all, wdt_TotTime, wdt_UsrTime, wdt_SysTime, chi2_Nl_eff, adev, sum_of_x, Flux_tot, Mini_tot, Mcor_tot, v0_min, vd_min, AV_min, YAV_min, Nl_obs},\n",
              "  data={synthetic_spectrum, synthetic_results, results_average_chains_xj, results_average_chains_mj, results_average_chains_Av_chi2_mass},\n",
              "  age, reddening, av_value, normalization_point, z_value,\n",
              "  spectra={synthetic_spectrum, observed_spectrum, residual_spectrum},\n",
              "  extra_info={xj_percent, age_decimals, rv, z_decimals, ssps_vector, synthesis_info, average_log_age})>"
            ]
          },
          "execution_count": 28,
          "metadata": {},
          "output_type": "execute_result"
        }
      ],
      "source": [
        "#el último\n",
        "ss_objects['ss_obj_9']"
      ]
    },
    {
      "cell_type": "code",
      "execution_count": null,
      "id": "22a64f3c-f058-425f-b664-a3bd87da576b",
      "metadata": {
        "id": "22a64f3c-f058-425f-b664-a3bd87da576b",
        "outputId": "3a085977-2d50-441a-c453-2f7837894818"
      },
      "outputs": [
        {
          "data": {
            "text/plain": [
              "65198685.72"
            ]
          },
          "execution_count": 31,
          "metadata": {},
          "output_type": "execute_result"
        }
      ],
      "source": [
        "ss_objects['ss_obj_0'].age"
      ]
    },
    {
      "cell_type": "code",
      "execution_count": null,
      "id": "b45d7a32-7fa5-48ae-9b9c-d787f0725d1e",
      "metadata": {
        "id": "b45d7a32-7fa5-48ae-9b9c-d787f0725d1e"
      },
      "outputs": [],
      "source": [
        "edades = []\n",
        "for i in range(len(ss_objects)):\n",
        "    edades.append(ss_objects[f'ss_obj_{i}'].age)"
      ]
    },
    {
      "cell_type": "code",
      "execution_count": null,
      "id": "b53353fa-6a66-4703-92b6-3c4e4a3b6ce3",
      "metadata": {
        "id": "b53353fa-6a66-4703-92b6-3c4e4a3b6ce3",
        "outputId": "9cb0f769-8c39-4329-b310-1301daf97428"
      },
      "outputs": [
        {
          "data": {
            "text/plain": [
              "[65198685.72,\n",
              " 340695674.62,\n",
              " 1017688412.5,\n",
              " 1072959028.1,\n",
              " 1126792180.86,\n",
              " 110814183.39,\n",
              " 1800019301.97,\n",
              " 273195063.65,\n",
              " 1969486468.72,\n",
              " 483347292.47]"
            ]
          },
          "execution_count": 38,
          "metadata": {},
          "output_type": "execute_result"
        }
      ],
      "source": [
        "edades"
      ]
    },
    {
      "cell_type": "code",
      "execution_count": null,
      "id": "5f1a81d1-a888-4403-bec9-6113e8404859",
      "metadata": {
        "id": "5f1a81d1-a888-4403-bec9-6113e8404859"
      },
      "outputs": [],
      "source": [
        "log_edad = []\n",
        "for i in range(len(ss_objects)):\n",
        "    log_edad.append(ss_objects[f'ss_obj_{i}'].extra_info.average_log_age)"
      ]
    },
    {
      "cell_type": "code",
      "execution_count": null,
      "id": "c03d3698-372e-4ac6-8b45-c91055edc89b",
      "metadata": {
        "id": "c03d3698-372e-4ac6-8b45-c91055edc89b",
        "outputId": "c4f4d267-5134-4b8c-a746-465f28636a02"
      },
      "outputs": [
        {
          "data": {
            "text/plain": [
              "[np.float64(7.28),\n",
              " np.float64(7.64),\n",
              " np.float64(8.4),\n",
              " np.float64(7.99),\n",
              " np.float64(7.79),\n",
              " np.float64(7.78),\n",
              " np.float64(7.93),\n",
              " np.float64(7.83),\n",
              " np.float64(9.28),\n",
              " np.float64(7.46)]"
            ]
          },
          "execution_count": 40,
          "metadata": {},
          "output_type": "execute_result"
        }
      ],
      "source": [
        "log_edad"
      ]
    },
    {
      "cell_type": "code",
      "execution_count": null,
      "id": "cd238121-f2bd-4aff-a934-a95d7bf90364",
      "metadata": {
        "id": "cd238121-f2bd-4aff-a934-a95d7bf90364",
        "outputId": "001e4e62-d311-4c6e-834e-f9c62e0c248b"
      },
      "outputs": [
        {
          "name": "stdout",
          "output_type": "stream",
          "text": [
            "ESO430_09.out\n",
            "         x_j        age_j   Z_j\n",
            "0  61.390284    5010000.0  0.02\n",
            "1  38.609716  160900000.0  0.02\n",
            "\n",
            "Alessi18.out\n",
            "         x_j        age_j   Z_j\n",
            "0  10.593946    1000000.0  0.02\n",
            "1  23.679262    3160000.0  0.02\n",
            "2  15.347154    5010000.0  0.02\n",
            "3  29.484924  508800000.0  0.02\n",
            "4  20.894714  904790000.0  0.02\n",
            "\n",
            "ESO445_74.out\n",
            "         x_j         age_j   Z_j\n",
            "0  22.911503  1.000000e+06  0.02\n",
            "1  16.626624  9.047900e+08  0.02\n",
            "2  60.461874  1.434000e+09  0.02\n",
            "\n",
            "ESO518_03.out\n",
            "         x_j         age_j   Z_j\n",
            "0  48.462379  8.710000e+06  0.02\n",
            "1  28.295784  2.861200e+08  0.02\n",
            "2  23.241837  4.250000e+09  0.02\n",
            "\n",
            "Archinal1.out\n",
            "         x_j         age_j   Z_j\n",
            "0  15.137456  1.000000e+06  0.02\n",
            "1  15.856584  3.160000e+06  0.02\n",
            "2   6.941256  5.010000e+06  0.02\n",
            "3   7.424267  6.610000e+06  0.02\n",
            "4   9.042816  1.000000e+07  0.02\n",
            "5   7.962454  9.047900e+08  0.02\n",
            "6   7.373724  1.278050e+09  0.02\n",
            "7  11.647646  1.434000e+09  0.02\n",
            "8  18.613796  4.250000e+09  0.02\n",
            "\n",
            "ngc6204.out\n",
            "         x_j        age_j   Z_j\n",
            "0  24.871608    5010000.0  0.02\n",
            "1  30.788686  101520000.0  0.02\n",
            "2  38.774416  160900000.0  0.02\n",
            "3   5.565289  286120000.0  0.02\n",
            "\n",
            "Be82.out\n",
            "         x_j         age_j   Z_j\n",
            "0  11.462991  1.000000e+06  0.02\n",
            "1   7.896989  3.160000e+06  0.02\n",
            "2   6.978980  6.610000e+06  0.02\n",
            "3  21.397638  8.710000e+06  0.02\n",
            "4   9.996804  1.000000e+07  0.02\n",
            "5  42.266598  4.250000e+09  0.02\n",
            "\n",
            "ESO312_04.out\n",
            "         x_j        age_j   Z_j\n",
            "0   8.695919    1000000.0  0.02\n",
            "1   6.380106    3160000.0  0.02\n",
            "2  22.209918    5010000.0  0.02\n",
            "3  21.239152  286120000.0  0.02\n",
            "4  41.474904  508800000.0  0.02\n",
            "\n",
            "ESO435_48.out\n",
            "         x_j         age_j   Z_j\n",
            "0  49.766748  1.434000e+09  0.02\n",
            "1  50.233252  2.500000e+09  0.02\n",
            "\n",
            "BH92.out\n",
            "         x_j         age_j   Z_j\n",
            "0  60.756673  8.710000e+06  0.02\n",
            "1  14.558137  1.000000e+07  0.02\n",
            "2  11.624586  2.861200e+08  0.02\n",
            "3   6.384936  2.500000e+09  0.02\n",
            "4   6.675669  4.250000e+09  0.02\n",
            "\n"
          ]
        }
      ],
      "source": [
        "\n",
        "for j in range(len(ss_objects)):\n",
        "    datos = ss_objects[f'ss_obj_{j}'].extra_info.ssps_vector\n",
        "    print(files_list[j])\n",
        "    print(datos[['x_j','age_j', 'Z_j']])\n",
        "    print()"
      ]
    },
    {
      "cell_type": "code",
      "execution_count": null,
      "id": "f52c00d5-4254-43c4-9138-ad4204b18e4b",
      "metadata": {
        "id": "f52c00d5-4254-43c4-9138-ad4204b18e4b",
        "outputId": "eb2607ba-a964-44fd-b2d7-b2f95f29b536"
      },
      "outputs": [
        {
          "data": {
            "text/plain": [
              "'ESO430_09.out'"
            ]
          },
          "execution_count": 57,
          "metadata": {},
          "output_type": "execute_result"
        }
      ],
      "source": [
        "files_list[0]"
      ]
    },
    {
      "cell_type": "code",
      "execution_count": null,
      "id": "74d74ddf-20e3-4665-82a1-9f3032c1eaf1",
      "metadata": {
        "id": "74d74ddf-20e3-4665-82a1-9f3032c1eaf1"
      },
      "outputs": [],
      "source": []
    }
  ],
  "metadata": {
    "kernelspec": {
      "display_name": "Python 3 (ipykernel)",
      "language": "python",
      "name": "python3"
    },
    "language_info": {
      "codemirror_mode": {
        "name": "ipython",
        "version": 3
      },
      "file_extension": ".py",
      "mimetype": "text/x-python",
      "name": "python",
      "nbconvert_exporter": "python",
      "pygments_lexer": "ipython3",
      "version": "3.12.1"
    },
    "colab": {
      "provenance": [],
      "include_colab_link": true
    }
  },
  "nbformat": 4,
  "nbformat_minor": 5
}