{
 "cells": [
  {
   "cell_type": "code",
   "execution_count": 1,
   "id": "42f8b056-4389-48ec-a253-f6cf00a4808f",
   "metadata": {},
   "outputs": [],
   "source": [
    "import numpy as np\n",
    "import matplotlib.pyplot as plt\n",
    "import pandas as pd\n"
   ]
  },
  {
   "cell_type": "code",
   "execution_count": 2,
   "id": "304b47f8-738f-42bb-bdfd-540071daf184",
   "metadata": {},
   "outputs": [],
   "source": [
    "df = pd.read_csv('AE_iraf - Resumen.csv')\n"
   ]
  },
  {
   "cell_type": "code",
   "execution_count": 3,
   "id": "c4894ac2-3e61-44f7-af47-d49ad243a76d",
   "metadata": {
    "scrolled": true
   },
   "outputs": [
    {
     "data": {
      "text/html": [
       "<div>\n",
       "<style scoped>\n",
       "    .dataframe tbody tr th:only-of-type {\n",
       "        vertical-align: middle;\n",
       "    }\n",
       "\n",
       "    .dataframe tbody tr th {\n",
       "        vertical-align: top;\n",
       "    }\n",
       "\n",
       "    .dataframe thead th {\n",
       "        text-align: right;\n",
       "    }\n",
       "</style>\n",
       "<table border=\"1\" class=\"dataframe\">\n",
       "  <thead>\n",
       "    <tr style=\"text-align: right;\">\n",
       "      <th></th>\n",
       "      <th>Cumulo</th>\n",
       "      <th>Ventana 1</th>\n",
       "      <th>Ventana 2</th>\n",
       "      <th>Ventana 3</th>\n",
       "      <th>Ventana 4</th>\n",
       "      <th>Ventana 5</th>\n",
       "      <th>Ventana 6</th>\n",
       "      <th>Ventana 7</th>\n",
       "    </tr>\n",
       "  </thead>\n",
       "  <tbody>\n",
       "    <tr>\n",
       "      <th>0</th>\n",
       "      <td>Alessi 18</td>\n",
       "      <td>2.62</td>\n",
       "      <td>6.18</td>\n",
       "      <td>3.24</td>\n",
       "      <td>5.67</td>\n",
       "      <td>4.67</td>\n",
       "      <td>1.11</td>\n",
       "      <td>-3.10</td>\n",
       "    </tr>\n",
       "    <tr>\n",
       "      <th>1</th>\n",
       "      <td>Archinal 1</td>\n",
       "      <td>11.41</td>\n",
       "      <td>3.87</td>\n",
       "      <td>3.96</td>\n",
       "      <td>5.52</td>\n",
       "      <td>5.19</td>\n",
       "      <td>0.61</td>\n",
       "      <td>3.36</td>\n",
       "    </tr>\n",
       "    <tr>\n",
       "      <th>2</th>\n",
       "      <td>Berkeley 82</td>\n",
       "      <td>2.94</td>\n",
       "      <td>4.20</td>\n",
       "      <td>3.17</td>\n",
       "      <td>5.63</td>\n",
       "      <td>5.81</td>\n",
       "      <td>2.61</td>\n",
       "      <td>1.98</td>\n",
       "    </tr>\n",
       "    <tr>\n",
       "      <th>3</th>\n",
       "      <td>ESO 312-04</td>\n",
       "      <td>4.79</td>\n",
       "      <td>12.24</td>\n",
       "      <td>0.65</td>\n",
       "      <td>4.89</td>\n",
       "      <td>8.43</td>\n",
       "      <td>-2.03</td>\n",
       "      <td>4.73</td>\n",
       "    </tr>\n",
       "    <tr>\n",
       "      <th>4</th>\n",
       "      <td>ESO 430-09</td>\n",
       "      <td>-0.06</td>\n",
       "      <td>6.22</td>\n",
       "      <td>0.03</td>\n",
       "      <td>6.40</td>\n",
       "      <td>6.16</td>\n",
       "      <td>-0.46</td>\n",
       "      <td>0.77</td>\n",
       "    </tr>\n",
       "    <tr>\n",
       "      <th>5</th>\n",
       "      <td>ESO 435-48</td>\n",
       "      <td>11.72</td>\n",
       "      <td>1.52</td>\n",
       "      <td>6.53</td>\n",
       "      <td>3.30</td>\n",
       "      <td>2.27</td>\n",
       "      <td>4.27</td>\n",
       "      <td>2.85</td>\n",
       "    </tr>\n",
       "    <tr>\n",
       "      <th>6</th>\n",
       "      <td>ESO 445-74</td>\n",
       "      <td>17.10</td>\n",
       "      <td>3.03</td>\n",
       "      <td>5.55</td>\n",
       "      <td>2.20</td>\n",
       "      <td>7.43</td>\n",
       "      <td>6.35</td>\n",
       "      <td>6.56</td>\n",
       "    </tr>\n",
       "    <tr>\n",
       "      <th>7</th>\n",
       "      <td>ESO 518-03</td>\n",
       "      <td>4.91</td>\n",
       "      <td>1.73</td>\n",
       "      <td>1.84</td>\n",
       "      <td>2.68</td>\n",
       "      <td>5.46</td>\n",
       "      <td>5.49</td>\n",
       "      <td>0.71</td>\n",
       "    </tr>\n",
       "    <tr>\n",
       "      <th>8</th>\n",
       "      <td>BH 92</td>\n",
       "      <td>NaN</td>\n",
       "      <td>NaN</td>\n",
       "      <td>NaN</td>\n",
       "      <td>NaN</td>\n",
       "      <td>NaN</td>\n",
       "      <td>NaN</td>\n",
       "      <td>NaN</td>\n",
       "    </tr>\n",
       "    <tr>\n",
       "      <th>9</th>\n",
       "      <td>NGC 6204</td>\n",
       "      <td>NaN</td>\n",
       "      <td>NaN</td>\n",
       "      <td>NaN</td>\n",
       "      <td>NaN</td>\n",
       "      <td>NaN</td>\n",
       "      <td>NaN</td>\n",
       "      <td>NaN</td>\n",
       "    </tr>\n",
       "  </tbody>\n",
       "</table>\n",
       "</div>"
      ],
      "text/plain": [
       "        Cumulo  Ventana 1  Ventana 2  Ventana 3  Ventana 4  Ventana 5  \\\n",
       "0    Alessi 18       2.62       6.18       3.24       5.67       4.67   \n",
       "1   Archinal 1      11.41       3.87       3.96       5.52       5.19   \n",
       "2  Berkeley 82       2.94       4.20       3.17       5.63       5.81   \n",
       "3   ESO 312-04       4.79      12.24       0.65       4.89       8.43   \n",
       "4   ESO 430-09      -0.06       6.22       0.03       6.40       6.16   \n",
       "5   ESO 435-48      11.72       1.52       6.53       3.30       2.27   \n",
       "6   ESO 445-74      17.10       3.03       5.55       2.20       7.43   \n",
       "7   ESO 518-03       4.91       1.73       1.84       2.68       5.46   \n",
       "8        BH 92        NaN        NaN        NaN        NaN        NaN   \n",
       "9     NGC 6204        NaN        NaN        NaN        NaN        NaN   \n",
       "\n",
       "   Ventana 6  Ventana 7  \n",
       "0       1.11      -3.10  \n",
       "1       0.61       3.36  \n",
       "2       2.61       1.98  \n",
       "3      -2.03       4.73  \n",
       "4      -0.46       0.77  \n",
       "5       4.27       2.85  \n",
       "6       6.35       6.56  \n",
       "7       5.49       0.71  \n",
       "8        NaN        NaN  \n",
       "9        NaN        NaN  "
      ]
     },
     "execution_count": 3,
     "metadata": {},
     "output_type": "execute_result"
    }
   ],
   "source": [
    "df"
   ]
  },
  {
   "cell_type": "code",
   "execution_count": 4,
   "id": "6bfc2a3d-4db3-4cf9-862d-efc402fa8d6c",
   "metadata": {},
   "outputs": [
    {
     "data": {
      "text/plain": [
       "0      Alessi 18\n",
       "1     Archinal 1\n",
       "2    Berkeley 82\n",
       "3     ESO 312-04\n",
       "4     ESO 430-09\n",
       "5     ESO 435-48\n",
       "6     ESO 445-74\n",
       "7     ESO 518-03\n",
       "8          BH 92\n",
       "9       NGC 6204\n",
       "Name: Cumulo, dtype: object"
      ]
     },
     "execution_count": 4,
     "metadata": {},
     "output_type": "execute_result"
    }
   ],
   "source": [
    "df['Cumulo']"
   ]
  },
  {
   "cell_type": "code",
   "execution_count": 5,
   "id": "b9fd6a02-068a-465e-9735-67aee86a60f8",
   "metadata": {},
   "outputs": [
    {
     "data": {
      "text/plain": [
       "np.float64(4.67)"
      ]
     },
     "execution_count": 5,
     "metadata": {},
     "output_type": "execute_result"
    }
   ],
   "source": [
    "df.iloc[0, 5]"
   ]
  },
  {
   "cell_type": "code",
   "execution_count": null,
   "id": "c4d59d35-0b21-4159-a70a-0cf6829c1090",
   "metadata": {},
   "outputs": [],
   "source": []
  },
  {
   "cell_type": "code",
   "execution_count": 6,
   "id": "751c08e5-35df-4954-bfbf-0d57d76483ca",
   "metadata": {},
   "outputs": [],
   "source": [
    "SH = []\n",
    "SM = []\n",
    "for i in range(len(df['Cumulo'])):\n",
    "    SH.append( df.iloc[i, 2] + df.iloc[i, 4] + df.iloc[i, 5] )\n",
    "    SM.append( df.iloc[i, 1] + df.iloc[i, 3] + df.iloc[i, 6] )"
   ]
  },
  {
   "cell_type": "code",
   "execution_count": 7,
   "id": "68841588-7427-4de4-a8cc-0f91f1ce4f96",
   "metadata": {},
   "outputs": [
    {
     "data": {
      "text/plain": [
       "[np.float64(16.52),\n",
       " np.float64(14.580000000000002),\n",
       " np.float64(15.64),\n",
       " np.float64(25.56),\n",
       " np.float64(18.78),\n",
       " np.float64(7.09),\n",
       " np.float64(12.66),\n",
       " np.float64(9.870000000000001),\n",
       " np.float64(nan),\n",
       " np.float64(nan)]"
      ]
     },
     "execution_count": 7,
     "metadata": {},
     "output_type": "execute_result"
    }
   ],
   "source": [
    "SH"
   ]
  },
  {
   "cell_type": "code",
   "execution_count": 8,
   "id": "94c46280-7a10-4c21-a7f5-719df03453db",
   "metadata": {},
   "outputs": [
    {
     "data": {
      "text/plain": [
       "[np.float64(6.970000000000001),\n",
       " np.float64(15.98),\n",
       " np.float64(8.719999999999999),\n",
       " np.float64(3.4100000000000006),\n",
       " np.float64(-0.49),\n",
       " np.float64(22.52),\n",
       " np.float64(29.0),\n",
       " np.float64(12.24),\n",
       " np.float64(nan),\n",
       " np.float64(nan)]"
      ]
     },
     "execution_count": 8,
     "metadata": {},
     "output_type": "execute_result"
    }
   ],
   "source": [
    "SM"
   ]
  },
  {
   "cell_type": "code",
   "execution_count": 13,
   "id": "b8ab474a-91a3-44e8-a969-abf2844d0f17",
   "metadata": {},
   "outputs": [
    {
     "name": "stderr",
     "output_type": "stream",
     "text": [
      "posx and posy should be finite values\n",
      "posx and posy should be finite values\n",
      "posx and posy should be finite values\n",
      "posx and posy should be finite values\n",
      "posx and posy should be finite values\n",
      "posx and posy should be finite values\n",
      "posx and posy should be finite values\n",
      "posx and posy should be finite values\n"
     ]
    },
    {
     "data": {
      "image/png": "[encoded data removed]",
      "text/plain": [
       "<Figure size 300x440 with 1 Axes>"
      ]
     },
     "metadata": {},
     "output_type": "display_data"
    }
   ],
   "source": [
    "plt.figure(figsize=(3,4.4), facecolor='#1e1f24ff')\n",
    "plt.style.use('dark_background')\n",
    "\n",
    "plt.subplot(facecolor='#1e1f24ff')\n",
    "plt.grid(color='gray', linestyle='--', linewidth=0.8, alpha= 0.5)\n",
    "\n",
    "\n",
    "# Obtener el objeto de los ejes actuales\n",
    "ax = plt.gca()\n",
    "\n",
    "# Cambiar el color de los ejes\n",
    "ax.spines['top'].set_color('#f1c232')\n",
    "ax.spines['bottom'].set_color('#f1c232')\n",
    "ax.spines['left'].set_color('#f1c232')\n",
    "ax.spines['right'].set_color('#f1c232')\n",
    "\n",
    "# Cambiar el color de las etiquetas de los ejes (ticks)\n",
    "ax.tick_params(axis='x', colors='#f1c232', labelsize=12)  # Color de las etiquetas en el eje X\n",
    "ax.tick_params(axis='y', colors='#f1c232', labelsize=12)  # Color de las etiquetas en el eje Y\n",
    "\n",
    "# Eliminar ticks y etiquetas de los ejes  \n",
    "#plt.gca().set_xticks([])  \n",
    "#plt.gca().set_yticks([])  \n",
    "#plt.gca().set_xticklabels([])  \n",
    "#plt.gca().set_yticklabels([])  \n",
    "\n",
    "\n",
    "# Cambiar el color de las etiquetas de los ejes (nombres de los ejes X e Y)\n",
    "ax.set_xlabel('SH', color='#f1c232', fontsize=12)\n",
    "ax.set_ylabel('SM', color='#f1c232', fontsize=12)\n",
    "\n",
    "plt.scatter(SH, SM, marker='.')\n",
    "plt.scatter(SH, SM, marker='*', c='cornflowerblue', s = 500, alpha=0.4, label='Este trabajo')\n",
    "\n",
    "for i in range(len(df['Cumulo'])):\n",
    "    plt.text(SH[i], SM[i], df['Cumulo'][i], color='white', fontsize=10, ha='center', va='bottom')\n",
    "\n",
    "plt.xlim(0,40)\n",
    "plt.ylim(-5,44)\n",
    "\n",
    "plt.savefig('DD_labels.png', transparent=True)"
   ]
  },
  {
   "cell_type": "code",
   "execution_count": 28,
   "id": "7c731312-72fe-41d8-b82d-0f9b32f391fb",
   "metadata": {},
   "outputs": [
    {
     "data": {
      "image/png": "[encoded data removed]",
      "text/plain": [
       "<Figure size 300x400 with 1 Axes>"
      ]
     },
     "metadata": {},
     "output_type": "display_data"
    }
   ],
   "source": [
    "plt.figure(figsize=(3,4), facecolor='#1e1f24ff')\n",
    "plt.style.use('dark_background')\n",
    "\n",
    "plt.subplot(facecolor='#1e1f24ff')\n",
    "plt.grid(color='gray', linestyle='--', linewidth=0.8, alpha= 0.5)\n",
    "\n",
    "\n",
    "# Obtener el objeto de los ejes actuales\n",
    "ax = plt.gca()\n",
    "\n",
    "# Cambiar el color de los ejes\n",
    "#ax.spines['top'].set_color('#f1c232')\n",
    "#ax.spines['bottom'].set_color('#f1c232')\n",
    "#ax.spines['left'].set_color('#f1c232')\n",
    "#ax.spines['right'].set_color('#f1c232')\n",
    "\n",
    "# Cambiar el color de las etiquetas de los ejes (ticks)\n",
    "#ax.tick_params(axis='x', colors='#f1c232', labelsize=12)  # Color de las etiquetas en el eje X\n",
    "#ax.tick_params(axis='y', colors='#f1c232', labelsize=12)  # Color de las etiquetas en el eje Y\n",
    "\n",
    "# Eliminar ticks y etiquetas de los ejes  \n",
    "plt.gca().set_xticks([])  \n",
    "plt.gca().set_yticks([])  \n",
    "plt.gca().set_xticklabels([])  \n",
    "plt.gca().set_yticklabels([])  \n",
    "\n",
    "\n",
    "# Cambiar el color de las etiquetas de los ejes (nombres de los ejes X e Y)\n",
    "#ax.set_xlabel('SH', color='#f1c232', fontsize=12)\n",
    "#ax.set_ylabel('SM', color='#f1c232', fontsize=12)\n",
    "\n",
    "plt.scatter(SH, SM, marker='.')\n",
    "plt.scatter(SH, SM, marker='*', c='cornflowerblue', s = 500, alpha=0.4, label='Este trabajo')\n",
    "plt.xlim(0,40)\n",
    "plt.ylim(-5,40.3)\n",
    "\n",
    "plt.savefig('DD.png', transparent=True)"
   ]
  },
  {
   "cell_type": "code",
   "execution_count": null,
   "id": "cf4c35ef-a83d-4c80-af2d-b857627d4c3f",
   "metadata": {},
   "outputs": [],
   "source": []
  }
 ],
 "metadata": {
  "kernelspec": {
   "display_name": "Python 3 (ipykernel)",
   "language": "python",
   "name": "python3"
  },
  "language_info": {
   "codemirror_mode": {
    "name": "ipython",
    "version": 3
   },
   "file_extension": ".py",
   "mimetype": "text/x-python",
   "name": "python",
   "nbconvert_exporter": "python",
   "pygments_lexer": "ipython3",
   "version": "3.12.1"
  }
 },
 "nbformat": 4,
 "nbformat_minor": 5
}
