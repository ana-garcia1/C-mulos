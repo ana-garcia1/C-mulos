{
  "cells": [
    {
      "cell_type": "markdown",
      "metadata": {
        "id": "view-in-github",
        "colab_type": "text"
      },
      "source": [
        "<a href=\"https://colab.research.google.com/github/ana-garcia1/C-mulos/blob/main/Edades_10.ipynb\" target=\"_parent\"><img src=\"https://colab.research.google.com/assets/colab-badge.svg\" alt=\"Open In Colab\"/></a>"
      ]
    },
    {
      "cell_type": "code",
      "execution_count": 1,
      "id": "9bc90675-f2b6-4de0-93f6-8ea47cfb12a0",
      "metadata": {
        "id": "9bc90675-f2b6-4de0-93f6-8ea47cfb12a0"
      },
      "outputs": [],
      "source": [
        "import numpy as np\n",
        "import matplotlib.pyplot as plt"
      ]
    },
    {
      "cell_type": "code",
      "execution_count": 2,
      "id": "23f1a78c-b45d-474e-8d97-99b9b84dff7f",
      "metadata": {
        "id": "23f1a78c-b45d-474e-8d97-99b9b84dff7f"
      },
      "outputs": [],
      "source": [
        "labels = ('Alessi 18',\n",
        "'Archinal 1',\n",
        "'Berkeley 82',\n",
        "'ESO 312-04',\n",
        "'ESO 430-09',\n",
        "'ESO 435-48',\n",
        "'ESO 445-74',\n",
        "'ESO 518-03',\n",
        "'NGC 6204',\n",
        "'VdBH 92')"
      ]
    },
    {
      "cell_type": "code",
      "execution_count": 3,
      "id": "cb2bd462-68c5-4811-afd3-c1456d889c28",
      "metadata": {
        "id": "cb2bd462-68c5-4811-afd3-c1456d889c28"
      },
      "outputs": [],
      "source": [
        "fotom = (2,\n",
        "0.01,\n",
        "0.1,\n",
        "0.1,\n",
        "0.05,\n",
        "2,\n",
        "5,\n",
        "2.5,\n",
        "0.225,\n",
        "3)\n",
        "\n",
        "fotom_err_inf = (1,\n",
        "              0.003,\n",
        "              0.05,\n",
        "              0.05,\n",
        "                 0.02,\n",
        "                 0.7,\n",
        "                 2,\n",
        "                 0.5,\n",
        "                 0.025,\n",
        "                 1)\n",
        "\n",
        "fotom_err_sup = (1,\n",
        "              0.03,\n",
        "              0.1,\n",
        "              0.5,\n",
        "                 0.5,\n",
        "                 2,\n",
        "                 3,\n",
        "                 1.5,\n",
        "                 0.025,\n",
        "                 2)\n"
      ]
    },
    {
      "cell_type": "code",
      "execution_count": 4,
      "id": "ca458295-f2a5-4946-a7e1-0b905da14165",
      "metadata": {
        "id": "ca458295-f2a5-4946-a7e1-0b905da14165"
      },
      "outputs": [],
      "source": [
        "fotom_yr = []\n",
        "for i in range(len(fotom)):\n",
        "    fotom_yr.append( fotom[i] * 1000000000)\n",
        "\n",
        "fotom_err_inf_yr = []\n",
        "for i in range(len(fotom)):\n",
        "    fotom_err_inf_yr.append( fotom_err_inf[i] * 1000000000)\n",
        "\n",
        "fotom_err_sup_yr = []\n",
        "for i in range(len(fotom)):\n",
        "    fotom_err_sup_yr.append( fotom_err_sup[i] * 1000000000)\n"
      ]
    },
    {
      "cell_type": "code",
      "execution_count": 5,
      "id": "441f0a5d-1900-4b8e-bfd1-3b375b5bed0d",
      "metadata": {
        "id": "441f0a5d-1900-4b8e-bfd1-3b375b5bed0d"
      },
      "outputs": [],
      "source": [
        "fisa_rangos = [(3, 4), (0.005, 0.01), (0.045, 0.35), (0.2, 0.35), (0.029, 0.031), (1.9, 2.1), (1.9, 2.1), (1.9, 2.1), (0.2, 0.35), (0.9, 1.1)]\n",
        "fisa_rangos_yr = []\n",
        "for i in range(len(fisa_rangos)):\n",
        "    fisa_rango_lim = []\n",
        "    for j in range(len(fisa_rangos[i])):\n",
        "        fisa_rango_lim.append(fisa_rangos[i][j]*1000000000)\n",
        "    fisa_rangos_yr.append(fisa_rango_lim)"
      ]
    },
    {
      "cell_type": "code",
      "execution_count": 6,
      "id": "faa66aa2-aa8c-41c0-9534-c1bd802aeb72",
      "metadata": {
        "id": "faa66aa2-aa8c-41c0-9534-c1bd802aeb72",
        "outputId": "107a093b-b2d3-4027-c6e8-74f102a16e43",
        "colab": {
          "base_uri": "https://localhost:8080/"
        }
      },
      "outputs": [
        {
          "output_type": "execute_result",
          "data": {
            "text/plain": [
              "[[3000000000, 4000000000],\n",
              " [5000000.0, 10000000.0],\n",
              " [45000000.0, 350000000.0],\n",
              " [200000000.0, 350000000.0],\n",
              " [29000000.0, 31000000.0],\n",
              " [1900000000.0, 2100000000.0],\n",
              " [1900000000.0, 2100000000.0],\n",
              " [1900000000.0, 2100000000.0],\n",
              " [200000000.0, 350000000.0],\n",
              " [900000000.0, 1100000000.0]]"
            ]
          },
          "metadata": {},
          "execution_count": 6
        }
      ],
      "source": [
        "fisa_rangos_yr"
      ]
    },
    {
      "cell_type": "code",
      "execution_count": 7,
      "id": "d92c70cd-5fd6-4fda-8baa-493cdfb6f3d8",
      "metadata": {
        "id": "d92c70cd-5fd6-4fda-8baa-493cdfb6f3d8"
      },
      "outputs": [],
      "source": [
        "# Extraer alturas y posiciones\n",
        "fisa_mins = [r[0] for r in fisa_rangos_yr]\n",
        "fisa_alturas = [r[1] - r[0] for r in fisa_rangos_yr]"
      ]
    },
    {
      "cell_type": "code",
      "execution_count": 8,
      "id": "31412eb4-5f74-40a1-9813-c7987531eb02",
      "metadata": {
        "id": "31412eb4-5f74-40a1-9813-c7987531eb02"
      },
      "outputs": [],
      "source": [
        "DD = [(0, 0.04), (0, 0.04), (2.5, 20), (0.04, 0.35), (0, 0.04), (2.5, 20), (2.5, 20), (2.5, 20), (0.04, 0.35), (2.5, 20)]\n",
        "\n",
        "DD_yr = []\n",
        "for i in range(len(DD)):\n",
        "    DD_lim = []\n",
        "    for j in range(len(DD[i])):\n",
        "        DD_lim.append(DD[i][j]*1000000000)\n",
        "    DD_yr.append(DD_lim)\n",
        "\n",
        "# Extraer alturas y posiciones\n",
        "DD_mins = [r[0] for r in DD_yr]\n",
        "DD_alturas = [r[1] - r[0] for r in DD_yr]"
      ]
    },
    {
      "cell_type": "code",
      "execution_count": 9,
      "id": "f659cbb7-bc19-484c-9364-7d42546c8704",
      "metadata": {
        "id": "f659cbb7-bc19-484c-9364-7d42546c8704"
      },
      "outputs": [],
      "source": [
        "BA1 = [(0.01, 0.05),\n",
        "       (0.01, 0.05),\n",
        "       (0.01, 0.05),\n",
        "       (0.1, 0.5),\n",
        "       (0.01, 0.05),\n",
        "       (0.009, 0.011),\n",
        "       (0.01, 0.05),\n",
        "       (0.01, 0.05),\n",
        "       (0.1, 0.48),\n",
        "       (0.01, 0.05)]\n",
        "\n",
        "BA1_yr = []\n",
        "for i in range(len(BA1)):\n",
        "    BA1_lim = []\n",
        "    for j in range(len(BA1[i])):\n",
        "        BA1_lim.append(BA1[i][j]*1000000000)\n",
        "    BA1_yr.append(BA1_lim)\n",
        "\n",
        "# Extraer alturas y posiciones\n",
        "BA1_mins = [r[0] for r in BA1_yr]\n",
        "BA1_alturas = [r[1] - r[0] for r in BA1_yr]"
      ]
    },
    {
      "cell_type": "code",
      "execution_count": 10,
      "id": "efc4bbf7-bc5c-436d-834b-2dd6e463c9c2",
      "metadata": {
        "id": "efc4bbf7-bc5c-436d-834b-2dd6e463c9c2"
      },
      "outputs": [],
      "source": [
        "BA2 = [(4.75, 5.25),\n",
        "       (5, 20),\n",
        "       (5, 20),\n",
        "       (1, 5),\n",
        "       (1, 5),\n",
        "       (16.5, 20),\n",
        "       (5, 20),\n",
        "       (16.5, 20),\n",
        "       (0.52, 1),\n",
        "       (16.5, 20)]\n",
        "\n",
        "BA2_yr = []\n",
        "for i in range(len(BA2)):\n",
        "    BA2_lim = []\n",
        "    for j in range(len(BA2[i])):\n",
        "        BA2_lim.append(BA2[i][j]*1000000000)\n",
        "    BA2_yr.append(BA2_lim)\n",
        "\n",
        "# Extraer alturas y posiciones\n",
        "BA2_mins = [r[0] for r in BA2_yr]\n",
        "BA2_alturas = [r[1] - r[0] for r in BA2_yr]"
      ]
    },
    {
      "cell_type": "code",
      "execution_count": 11,
      "id": "3dc1e5e9-c0fb-44b7-b16f-3ef9172fb3c5",
      "metadata": {
        "id": "3dc1e5e9-c0fb-44b7-b16f-3ef9172fb3c5"
      },
      "outputs": [],
      "source": [
        "FEDE_SM = [0.053,\n",
        "0.1108,\n",
        "0.2823,\n",
        "0.0077,\n",
        "0.0057,\n",
        "1.6159,\n",
        "0.3150,\n",
        "0.8037,\n",
        "0.0835,\n",
        "0.4824]\n",
        "#FEDE_SM_einf = [0.006,0.9,0.2,0.1]\n",
        "#FEDE_SM_esup = [0.007,1.1,0.3,0.1]\n",
        "\n",
        "FEDE_SM_yr = []\n",
        "#FEDE_SM_einf_yr = []\n",
        "#FEDE_SM_esup_yr = []\n",
        "for i in range(len(FEDE_SM)):\n",
        "    FEDE_SM_yr.append(FEDE_SM[i] * 1000000000)\n",
        "#    FEDE_SM_einf_yr.append(FEDE_SM_einf[i] * 1000000000)\n",
        "#    FEDE_SM_esup_yr.append(FEDE_SM_esup[i] * 1000000000)"
      ]
    },
    {
      "cell_type": "code",
      "execution_count": 12,
      "id": "e45c9286-64ee-41b1-bebe-f27c0aefe3af",
      "metadata": {
        "id": "e45c9286-64ee-41b1-bebe-f27c0aefe3af"
      },
      "outputs": [],
      "source": [
        "FEDE_SH1 = [0.0112,\n",
        "0.012,\n",
        "0.0059,\n",
        "0,\n",
        "0.0278,\n",
        "0.004,\n",
        "0.004,\n",
        "0.0056,\n",
        "0,\n",
        "0.0062]\n",
        "#FEDE_SH1_einf = [0,0.005,0.001,0.0008]\n",
        "#FEDE_SH1_esup = [0,0.006,0.002,0.001]\n",
        "\n",
        "FEDE_SH1_yr = []\n",
        "#FEDE_SH1_einf_yr = []\n",
        "#FEDE_SH1_esup_yr = []\n",
        "for i in range(len(FEDE_SH1)):\n",
        "    FEDE_SH1_yr.append(FEDE_SH1[i] * 1000000000)\n",
        " #   FEDE_SH1_einf_yr.append(FEDE_SH1_einf[i] * 1000000000)\n",
        " #   FEDE_SH1_esup_yr.append(FEDE_SH1_esup[i] * 1000000000)"
      ]
    },
    {
      "cell_type": "code",
      "execution_count": 13,
      "id": "d80ede2a-9e20-44c1-ac72-67097d38584a",
      "metadata": {
        "id": "d80ede2a-9e20-44c1-ac72-67097d38584a"
      },
      "outputs": [],
      "source": [
        "FEDE_SH2 = [12.1756,\n",
        "11.4144,\n",
        "13.6,\n",
        "0,\n",
        "4.9189,\n",
        "13.6,\n",
        "13.6,\n",
        "13.6,\n",
        "0,\n",
        "13.6]\n",
        "#FEDE_SH2_einf = [0,1,3,3]\n",
        "#FEDE_SH2_esup = [0,2,4,4]\n",
        "\n",
        "FEDE_SH2_yr = []\n",
        "#FEDE_SH2_einf_yr = []\n",
        "#FEDE_SH2_esup_yr = []\n",
        "for i in range(len(FEDE_SH2)):\n",
        "    FEDE_SH2_yr.append(FEDE_SH2[i] * 1000000000)\n",
        " #   FEDE_SH2_einf_yr.append(FEDE_SH2_einf[i] * 1000000000)\n",
        " #   FEDE_SH2_esup_yr.append(FEDE_SH2_esup[i] * 1000000000)"
      ]
    },
    {
      "cell_type": "code",
      "execution_count": 14,
      "id": "50063a31-5245-47cc-8a3c-43a6e97210f8",
      "metadata": {
        "id": "50063a31-5245-47cc-8a3c-43a6e97210f8"
      },
      "outputs": [],
      "source": [
        "starlight = (0.341,\n",
        "1.13,\n",
        "1.80,\n",
        "0.273,\n",
        "0.0652,\n",
        "1.97,\n",
        "1.02,\n",
        "1.07,\n",
        "0.111,\n",
        "0.483)\n",
        "\n",
        "starlight_yr = []\n",
        "for i in range(len(starlight)):\n",
        "    starlight_yr.append( starlight[i] * 1000000000)"
      ]
    },
    {
      "cell_type": "code",
      "execution_count": null,
      "id": "61e41ed3-0f83-4f58-b7b4-ae13d3137ae6",
      "metadata": {
        "id": "61e41ed3-0f83-4f58-b7b4-ae13d3137ae6"
      },
      "outputs": [],
      "source": []
    },
    {
      "cell_type": "code",
      "execution_count": 28,
      "id": "4ff33c1f-fc5d-4939-ae14-e6cc7e528826",
      "metadata": {
        "colab": {
          "base_uri": "https://localhost:8080/",
          "height": 625
        },
        "id": "4ff33c1f-fc5d-4939-ae14-e6cc7e528826",
        "outputId": "0ef67b93-4a01-4cc2-9939-59e867992497"
      },
      "outputs": [
        {
          "output_type": "display_data",
          "data": {
            "text/plain": [
              "<Figure size 1500x600 with 1 Axes>"
            ],
            "image/png": "[encoded data removed]"
          },
          "metadata": {}
        }
      ],
      "source": [
        "plt.figure(figsize=(15,6))\n",
        "plt.style.use('default')\n",
        "\n",
        "plt.subplot()\n",
        "\n",
        "plt.grid(color='gray', linestyle='--', linewidth=0.8, alpha= 0.5)\n",
        "\n",
        "# Obtener el objeto de los ejes actuales\n",
        "ax = plt.gca()\n",
        "\n",
        "# Cambiar el color de los ejes\n",
        "#ax.spines['top'].set_color('#f1c232')\n",
        "#ax.spines['bottom'].set_color('#f1c232')\n",
        "#ax.spines['left'].set_color('#f1c232')\n",
        "#ax.spines['right'].set_color('#f1c232')\n",
        "\n",
        "# Cambiar el color de las etiquetas de los ejes (ticks)\n",
        "ax.tick_params(axis='x', labelsize=14, rotation=15)  # Color de las etiquetas en el eje X\n",
        "ax.tick_params(axis='y', labelsize=14)  # Color de las etiquetas en el eje Y\n",
        "\n",
        "\n",
        "# Cambiar el color de las etiquetas de los ejes (nombres de los ejes X e Y)\n",
        "ax.set_xlabel('', fontsize=14)\n",
        "ax.set_ylabel('Nombre del Eje Y',)\n",
        "\n",
        "\n",
        "x = np.arange(0, 10)\n",
        "\n",
        "#Isócronas\n",
        "#plt.scatter(x, fotom_yr, marker='*', s=200, alpha=0.8, color='royalblue', label='Isócronas')\n",
        "#plt.errorbar(x, fotom_yr, yerr=(fotom_err_inf_yr, fotom_err_sup_yr), fmt='.', c='royalblue', elinewidth=2, capsize=5, capthick=2, alpha=0.8)\n",
        "\n",
        "#FISA\n",
        "plt.bar(x-0.1, fisa_alturas, bottom=fisa_mins, width=0.1, alpha=0.8, color='gold', label='FISA')\n",
        "\n",
        "#Starlight\n",
        "plt.scatter(x+0.1, starlight_yr, marker='^', s=150, alpha=0.8, color='deeppink', label='Starlight')\n",
        "\n",
        "#BA1\n",
        "plt.bar(x-0.05, BA1_alturas, bottom=BA1_mins, width=0.08, alpha=0.8, color='limegreen', label='B&A')\n",
        "\n",
        "#BA2\n",
        "plt.bar(x-0.05, BA2_alturas, bottom=BA2_mins, width=0.08, alpha=0.8, color='limegreen')\n",
        "\n",
        "\n",
        "#DD\n",
        "plt.bar(x+0.05, DD_alturas, bottom=DD_mins, width=0.08, alpha=0.8, color='orangered', label='DD')\n",
        "\n",
        "#Fede SM\n",
        "plt.scatter(labels, FEDE_SM_yr, marker='o', c='blueviolet', s = 100, alpha=0.8, label='SR22')\n",
        "#plt.errorbar(labels, FEDE_SM_yr, yerr=(FEDE_SM_einf_yr, FEDE_SM_esup_yr), fmt='.', c='blueviolet', capsize=5, alpha=0.8)\n",
        "\n",
        "#Fede SH1\n",
        "plt.scatter(labels, FEDE_SH1_yr, marker='o', c='blueviolet', s = 100, alpha=0.8)\n",
        "#plt.errorbar(labels, FEDE_SH1_yr, yerr=(FEDE_SH1_einf_yr, FEDE_SH1_esup_yr), fmt='.', c='blueviolet', capsize=5, alpha=0.8)\n",
        "\n",
        "#Fede SH2\n",
        "plt.scatter(labels, FEDE_SH2_yr, marker='o', c='blueviolet', s = 100, alpha=0.8)\n",
        "#plt.errorbar(labels, FEDE_SH2_yr, yerr=(FEDE_SH2_einf_yr, FEDE_SH2_esup_yr), fmt='.', c='blueviolet', capsize=5, alpha=0.8)\n",
        "\n",
        "plt.ylabel('Edad [años]', fontsize=14)\n",
        "plt.legend(markerscale=0.7, ncols=5, fontsize=14, bbox_to_anchor=(0.5, -0.2), loc='upper center', borderaxespad=0.)\n",
        "\n",
        "plt.yscale('log')\n",
        "\n",
        "#plt.ylim(3000000,20000000000)\n",
        "\n",
        "\n",
        "plt.savefig('comp_metodos_espec.png', bbox_inches='tight')\n",
        "\n"
      ]
    },
    {
      "cell_type": "code",
      "execution_count": null,
      "id": "bd85fc98-013f-4313-abe1-127b2bae04c3",
      "metadata": {
        "id": "bd85fc98-013f-4313-abe1-127b2bae04c3"
      },
      "outputs": [],
      "source": []
    },
    {
      "cell_type": "code",
      "execution_count": null,
      "id": "e18f5b5f-06c8-47a6-a50e-0e0101f79ac4",
      "metadata": {
        "id": "e18f5b5f-06c8-47a6-a50e-0e0101f79ac4"
      },
      "outputs": [],
      "source": []
    },
    {
      "cell_type": "code",
      "execution_count": null,
      "id": "8e40c6bb-538a-4dc1-b2a2-a01ecb34dc0d",
      "metadata": {
        "id": "8e40c6bb-538a-4dc1-b2a2-a01ecb34dc0d"
      },
      "outputs": [],
      "source": []
    },
    {
      "cell_type": "code",
      "execution_count": null,
      "id": "994e28bb-5427-4862-b84e-c41c4db821f0",
      "metadata": {
        "id": "994e28bb-5427-4862-b84e-c41c4db821f0"
      },
      "outputs": [],
      "source": []
    },
    {
      "cell_type": "code",
      "execution_count": null,
      "id": "f1c3b388-9724-4dfd-8a38-1dc7cf5deaa5",
      "metadata": {
        "id": "f1c3b388-9724-4dfd-8a38-1dc7cf5deaa5"
      },
      "outputs": [],
      "source": []
    },
    {
      "cell_type": "code",
      "execution_count": null,
      "id": "df912891-ff58-44ba-9c93-1418e8ad3d4b",
      "metadata": {
        "id": "df912891-ff58-44ba-9c93-1418e8ad3d4b"
      },
      "outputs": [],
      "source": []
    },
    {
      "cell_type": "code",
      "execution_count": null,
      "id": "56614dc4-f2d9-4bdb-af62-53c9a03859dc",
      "metadata": {
        "id": "56614dc4-f2d9-4bdb-af62-53c9a03859dc"
      },
      "outputs": [],
      "source": []
    },
    {
      "cell_type": "code",
      "execution_count": null,
      "id": "95134669-2f67-44bf-89f4-3f5cca399515",
      "metadata": {
        "id": "95134669-2f67-44bf-89f4-3f5cca399515"
      },
      "outputs": [],
      "source": []
    },
    {
      "cell_type": "code",
      "execution_count": null,
      "id": "9ea1373e-2669-40fa-b3e3-74f0710322a4",
      "metadata": {
        "id": "9ea1373e-2669-40fa-b3e3-74f0710322a4"
      },
      "outputs": [],
      "source": []
    },
    {
      "cell_type": "code",
      "execution_count": null,
      "id": "2d0be6b4-a3bc-41af-8d89-8bb4fdac414e",
      "metadata": {
        "id": "2d0be6b4-a3bc-41af-8d89-8bb4fdac414e"
      },
      "outputs": [],
      "source": []
    }
  ],
  "metadata": {
    "kernelspec": {
      "display_name": "Python 3 (ipykernel)",
      "language": "python",
      "name": "python3"
    },
    "language_info": {
      "codemirror_mode": {
        "name": "ipython",
        "version": 3
      },
      "file_extension": ".py",
      "mimetype": "text/x-python",
      "name": "python",
      "nbconvert_exporter": "python",
      "pygments_lexer": "ipython3",
      "version": "3.12.1"
    },
    "colab": {
      "provenance": [],
      "include_colab_link": true
    }
  },
  "nbformat": 4,
  "nbformat_minor": 5
}