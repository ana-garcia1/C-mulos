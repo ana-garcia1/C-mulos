{
 "cells": [
  {
   "cell_type": "code",
   "execution_count": 1,
   "id": "6029e386-19b8-4323-ab7e-1b45a49955ef",
   "metadata": {},
   "outputs": [],
   "source": [
    "import numpy as np\n",
    "import matplotlib.pyplot as plt"
   ]
  },
  {
   "cell_type": "code",
   "execution_count": 2,
   "id": "499f03ee-197a-42a5-82c9-6d1818410303",
   "metadata": {},
   "outputs": [],
   "source": [
    "labels = ('ESO 312-04',\n",
    "'ESO 430-09',\n",
    "'ESO 445-74',\n",
    "'ESO 518-03')"
   ]
  },
  {
   "cell_type": "code",
   "execution_count": 3,
   "id": "82c6a856-2307-45f8-a937-a6d75f0052de",
   "metadata": {},
   "outputs": [],
   "source": [
    "#mis valores:\n",
    "Garcia = (0.10, \n",
    "0.20,\n",
    "3.00,\n",
    "2.00)\n",
    "\n",
    "Garcia_err_inf = (0.05,\n",
    "              0.05,\n",
    "              1,\n",
    "              0.5)\n",
    "\n",
    "Garcia_err_sup = (0.05,\n",
    "              0.05,\n",
    "              1,\n",
    "              0.5)\n"
   ]
  },
  {
   "cell_type": "code",
   "execution_count": 4,
   "id": "9b9dac70-7833-4c19-8442-0c806566e077",
   "metadata": {},
   "outputs": [],
   "source": [
    "Garcia_yr = []\n",
    "for i in range(len(Garcia)):\n",
    "    Garcia_yr.append( Garcia[i] * 1000000000)\n",
    "\n",
    "Garcia_err_inf_yr = []\n",
    "for i in range(len(Garcia)):\n",
    "    Garcia_err_inf_yr.append( Garcia_err_inf[i] * 1000000000)\n",
    "\n",
    "Garcia_err_sup_yr = []\n",
    "for i in range(len(Garcia)):\n",
    "    Garcia_err_sup_yr.append( Garcia_err_sup[i] * 1000000000)\n"
   ]
  },
  {
   "cell_type": "code",
   "execution_count": 5,
   "id": "2c8e3ac6-3733-4bb7-b08b-90fc4ac341d9",
   "metadata": {},
   "outputs": [],
   "source": [
    "Kharchenko = (0.20,\n",
    "0.32, \n",
    "3.16, \n",
    "1.48)\n",
    "\n",
    "Kharchenko_err_inf = (0.04,\n",
    "                      0.07,\n",
    "                      0.65,\n",
    "                      0.30)\n",
    "                      \n",
    "Kharchenko_err_sup = (0.05,\n",
    "                      0.08,\n",
    "                      0.82,\n",
    "                      0.38)\n"
   ]
  },
  {
   "cell_type": "code",
   "execution_count": 6,
   "id": "94035b85-7d3e-4850-999b-dbfba894fd4d",
   "metadata": {},
   "outputs": [],
   "source": [
    "Kharchenko_yr = []\n",
    "for i in range(len(Kharchenko)):\n",
    "    Kharchenko_yr.append( Kharchenko[i] * 1000000000)\n",
    "\n",
    "Kharchenko_err_inf_yr = []\n",
    "for i in range(len(Kharchenko)):\n",
    "    Kharchenko_err_inf_yr.append( Kharchenko_err_inf[i] * 1000000000)\n",
    "\n",
    "Kharchenko_err_sup_yr = []\n",
    "for i in range(len(Kharchenko)):\n",
    "    Kharchenko_err_sup_yr.append( Kharchenko_err_sup[i] * 1000000000)\n"
   ]
  },
  {
   "cell_type": "code",
   "execution_count": 7,
   "id": "ff9a8c2e-343d-44ec-af79-f454c626d0b2",
   "metadata": {},
   "outputs": [],
   "source": [
    "Dias = (0.104,\n",
    "        0,\n",
    "        0,\n",
    "        1.754)\n",
    "\n",
    "Dias_err_inf = (0.087,\n",
    "                0,\n",
    "                0,\n",
    "                0.275)\n",
    "                \n",
    "Dias_err_sup = (0.512,\n",
    "                0,\n",
    "                0,\n",
    "                0.326)\n"
   ]
  },
  {
   "cell_type": "code",
   "execution_count": 8,
   "id": "392568c5-bbae-4849-ad67-9943e32592b5",
   "metadata": {},
   "outputs": [],
   "source": [
    "Dias_yr = []\n",
    "for i in range(len(Dias)):\n",
    "    Dias_yr.append( Dias[i] * 1000000000)\n",
    "\n",
    "Dias_err_inf_yr = []\n",
    "for i in range(len(Dias)):\n",
    "    Dias_err_inf_yr.append( Dias_err_inf[i] * 1000000000)\n",
    "\n",
    "Dias_err_sup_yr = []\n",
    "for i in range(len(Dias)):\n",
    "    Dias_err_sup_yr.append( Dias_err_sup[i] * 1000000000)\n"
   ]
  },
  {
   "cell_type": "code",
   "execution_count": 9,
   "id": "0961eb24-2f0d-483f-b392-a75a213cc470",
   "metadata": {},
   "outputs": [],
   "source": [
    "CG= (0.045,\n",
    "     0,\n",
    "     0,\n",
    "     1.413)\n",
    "\n",
    "CG_err_inf = (0.016,\n",
    "              0,\n",
    "              0,\n",
    "              0.413)\n",
    "\n",
    "              \n",
    "CG_err_sup = (0.026,\n",
    "              0,\n",
    "              0,\n",
    "              0.583)\n"
   ]
  },
  {
   "cell_type": "code",
   "execution_count": 10,
   "id": "5f43295b-0c18-4a8b-9461-ac8d7a92b73f",
   "metadata": {},
   "outputs": [],
   "source": [
    "CG_yr = []\n",
    "for i in range(len(CG)):\n",
    "    CG_yr.append(CG[i] * 1000000000)\n",
    "\n",
    "CG_err_inf_yr = []\n",
    "for i in range(len(CG)):\n",
    "    CG_err_inf_yr.append(CG_err_inf[i] * 1000000000)\n",
    "\n",
    "CG_err_sup_yr = []\n",
    "for i in range(len(CG)):\n",
    "    CG_err_sup_yr.append(CG_err_sup[i] * 1000000000)\n"
   ]
  },
  {
   "cell_type": "code",
   "execution_count": 14,
   "id": "721e51d4-af9a-4245-8ad2-8a659505e97c",
   "metadata": {},
   "outputs": [],
   "source": [
    "fisa_rangos = [(0.2, 0.35), (0.045, 0.075), (0.95,1.05), (1,4)]\n",
    "fisa_rangos_yr = []\n",
    "for i in range(len(fisa_rangos)):\n",
    "    fisa_rango_lim = []\n",
    "    for j in range(len(fisa_rangos[i])):\n",
    "        fisa_rango_lim.append(fisa_rangos[i][j]*1000000000)\n",
    "    fisa_rangos_yr.append(fisa_rango_lim)\n",
    "\n",
    "# Extraer alturas y posiciones\n",
    "fisa_mins = [r[0] for r in fisa_rangos_yr]\n",
    "fisa_alturas = [r[1] - r[0] for r in fisa_rangos_yr]"
   ]
  },
  {
   "cell_type": "code",
   "execution_count": 52,
   "id": "08326de4-06b7-45ea-9600-5dd43c08f5c8",
   "metadata": {
    "scrolled": true
   },
   "outputs": [
    {
     "data": {
      "image/png": "[encoded data removed]",
      "text/plain": [
       "<Figure size 1500x600 with 1 Axes>"
      ]
     },
     "metadata": {},
     "output_type": "display_data"
    }
   ],
   "source": [
    "plt.figure(figsize=(15,6), facecolor='#1e1f24ff')\n",
    "plt.style.use('dark_background')\n",
    "\n",
    "plt.subplot(facecolor='#1e1f24ff')\n",
    "\n",
    "plt.grid(color='gray', linestyle='--', linewidth=0.8, alpha= 0.5)\n",
    "\n",
    "plt.bar(x, fisa_alturas, bottom=fisa_mins, width=0.05, alpha=0.5, color='blueviolet', label='FISA')\n",
    "\n",
    "\n",
    "plt.scatter(labels, Garcia_yr, marker='*', c='cornflowerblue', s = 500, alpha=0.5, label='Isócronas')\n",
    "plt.errorbar(labels, Garcia_yr, yerr=(Garcia_err_inf_yr, Garcia_err_sup_yr), fmt='.', c='cornflowerblue', capsize=5, alpha=0.8)\n",
    "\n",
    "#fisa\n",
    "#plt.bar(x, fisa_alturas, bottom=fisa_mins, width=0.05, alpha=0.5, color='purple', label='FISA')\n",
    "\n",
    "# Obtener el objeto de los ejes actuales\n",
    "ax = plt.gca()\n",
    "\n",
    "# Cambiar el color de los ejes\n",
    "ax.spines['top'].set_color('#f1c232')\n",
    "ax.spines['bottom'].set_color('#f1c232')\n",
    "ax.spines['left'].set_color('#f1c232')\n",
    "ax.spines['right'].set_color('#f1c232')\n",
    "\n",
    "# Cambiar el color de las etiquetas de los ejes (ticks)\n",
    "ax.tick_params(axis='x', colors='#f1c232', labelsize=14, rotation=15)  # Color de las etiquetas en el eje X\n",
    "ax.tick_params(axis='y', colors='#f1c232', labelsize=14)  # Color de las etiquetas en el eje Y\n",
    "\n",
    "\n",
    "# Cambiar el color de las etiquetas de los ejes (nombres de los ejes X e Y)\n",
    "ax.set_xlabel('', color='#f1c232', fontsize=14)\n",
    "ax.set_ylabel('Nombre del Eje Y', color='#f1c232')\n",
    "\n",
    "x = np.arange(0, 4)\n",
    "\n",
    "for i in range(len(labels)):\n",
    "    \n",
    "    if Kharchenko[i] != 0:\n",
    "        plt.scatter(x[i]+0.05, Kharchenko_yr[i], marker='o', c='gold', s = 200, alpha=0.5)\n",
    "        plt.errorbar(x[i]+0.05, Kharchenko_yr[i], yerr=[[Kharchenko_err_inf_yr[i]], [Kharchenko_err_sup_yr[i]]], fmt='.', c='gold', capsize=5, alpha=0.8)\n",
    "        \n",
    "    if Dias[i] != 0:\n",
    "        plt.scatter(x[i]-0.05, Dias_yr[i], marker='^', c='tomato', s = 200, alpha=0.5)\n",
    "        plt.errorbar(x[i]-0.05, Dias_yr[i], yerr=[[Dias_err_inf_yr[i]], [Dias_err_sup_yr[i]]], fmt='.', c='tomato', capsize=5, alpha=0.8)\n",
    "\n",
    "    if CG[i] != 0:\n",
    "        plt.scatter(x[i]+0.1, CG_yr[i], marker='X', c='springgreen', s = 200, alpha=0.5)\n",
    "        plt.errorbar(x[i]+0.1, CG_yr[i], yerr=[[CG_err_inf_yr[i]], [CG_err_sup_yr[i]]], fmt='.', c='springgreen', capsize=5, alpha=0.8)\n",
    "\n",
    "\n",
    "plt.ylabel('Edad [años]', fontsize=14)\n",
    "#plt.legend([ 'Isócronas', 'FISA', 'K13', 'D21', 'CG20'], markerscale=0.7, ncols=2, facecolor='#1e1f24ff', labelcolor='#f1c232', edgecolor='#f1c232', fontsize=14)\n",
    "#plt.legend(['FISA', 'Isócronas', 'K13', 'D21', 'CG20'], markerscale=0.7, ncols=2, facecolor='#1e1f24ff', labelcolor='#f1c232', edgecolor='#f1c232', fontsize=14)\n",
    "\n",
    "\n",
    "\n",
    "\n",
    "\n",
    "from matplotlib.lines import Line2D\n",
    "\n",
    "# Crear líneas ficticias para la leyenda\n",
    "custom_lines = [\n",
    "    Line2D([0], [0], marker='*', c='cornflowerblue', alpha=0.5, linestyle='None'),  # Línea 1\n",
    "    Line2D([0], [0],  marker='s', alpha=0.5, color='blueviolet', linestyle='None') ,   # Línea 2\n",
    "    Line2D([0],[0], marker='o', c='gold', alpha=0.5, linestyle='None'),\n",
    "    Line2D([0],[0], marker='^', c='tomato', alpha=0.5, linestyle='None'),\n",
    "    Line2D([0],[0], marker='X', c='springgreen', alpha=0.5, linestyle='None')\n",
    "]\n",
    "\n",
    "# Personalizar la leyenda\n",
    "plt.legend(custom_lines, [ 'Isócronas', 'FISA', 'K13', 'D21', 'CG20'], markerscale=2, ncols=2, facecolor='#1e1f24ff', labelcolor='#f1c232', edgecolor='#f1c232', fontsize=14)\n",
    "\n",
    "\n",
    "\n",
    "\n",
    "\n",
    "\n",
    "\n",
    "#revisar eje en logaritmo, introducir valores en log\n",
    "plt.yscale('log')\n",
    "\n",
    "plt.savefig('comparaciones4.png', bbox_inches='tight', facecolor='#1e1f24ff')\n"
   ]
  },
  {
   "cell_type": "code",
   "execution_count": null,
   "id": "d123b341-786d-4ef9-9c90-2d358ae9b4ee",
   "metadata": {},
   "outputs": [],
   "source": []
  },
  {
   "cell_type": "code",
   "execution_count": null,
   "id": "0ed7b9be-bb99-414d-846f-9ea1a67fe335",
   "metadata": {},
   "outputs": [],
   "source": [
    "\n",
    "\n"
   ]
  },
  {
   "cell_type": "code",
   "execution_count": null,
   "id": "b4050826-e6e8-44ba-8e95-6fa588a102b8",
   "metadata": {},
   "outputs": [],
   "source": []
  },
  {
   "cell_type": "code",
   "execution_count": null,
   "id": "ca2b9433-c052-40b5-8f27-f3038a8da803",
   "metadata": {},
   "outputs": [],
   "source": []
  },
  {
   "cell_type": "code",
   "execution_count": null,
   "id": "65b5d99f-a84d-440a-bd48-1735de7256e4",
   "metadata": {},
   "outputs": [],
   "source": []
  }
 ],
 "metadata": {
  "kernelspec": {
   "display_name": "Python 3 (ipykernel)",
   "language": "python",
   "name": "python3"
  },
  "language_info": {
   "codemirror_mode": {
    "name": "ipython",
    "version": 3
   },
   "file_extension": ".py",
   "mimetype": "text/x-python",
   "name": "python",
   "nbconvert_exporter": "python",
   "pygments_lexer": "ipython3",
   "version": "3.12.1"
  }
 },
 "nbformat": 4,
 "nbformat_minor": 5
}
