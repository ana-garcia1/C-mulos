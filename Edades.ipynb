{
 "cells": [
  {
   "cell_type": "code",
   "execution_count": 1,
   "id": "9bc90675-f2b6-4de0-93f6-8ea47cfb12a0",
   "metadata": {},
   "outputs": [],
   "source": [
    "import numpy as np\n",
    "import matplotlib.pyplot as plt"
   ]
  },
  {
   "cell_type": "code",
   "execution_count": 2,
   "id": "23f1a78c-b45d-474e-8d97-99b9b84dff7f",
   "metadata": {},
   "outputs": [],
   "source": [
    "labels = ('ESO 312-04',\n",
    "'ESO 430-09',\n",
    "'ESO 445-74',\n",
    "'ESO 518-03')"
   ]
  },
  {
   "cell_type": "code",
   "execution_count": 3,
   "id": "cb2bd462-68c5-4811-afd3-c1456d889c28",
   "metadata": {},
   "outputs": [],
   "source": [
    "fotom = (0.10, \n",
    "0.20,\n",
    "3.00,\n",
    "2.00)\n",
    "\n",
    "fotom_err_inf = (0.05,\n",
    "              0.05,\n",
    "              1,\n",
    "              0.5)\n",
    "\n",
    "fotom_err_sup = (0.05,\n",
    "              0.05,\n",
    "              1,\n",
    "              0.5)\n"
   ]
  },
  {
   "cell_type": "code",
   "execution_count": 4,
   "id": "ca458295-f2a5-4946-a7e1-0b905da14165",
   "metadata": {},
   "outputs": [],
   "source": [
    "fotom_yr = []\n",
    "for i in range(len(fotom)):\n",
    "    fotom_yr.append( fotom[i] * 1000000000)\n",
    "\n",
    "fotom_err_inf_yr = []\n",
    "for i in range(len(fotom)):\n",
    "    fotom_err_inf_yr.append( fotom_err_inf[i] * 1000000000)\n",
    "\n",
    "fotom_err_sup_yr = []\n",
    "for i in range(len(fotom)):\n",
    "    fotom_err_sup_yr.append( fotom_err_sup[i] * 1000000000)\n"
   ]
  },
  {
   "cell_type": "code",
   "execution_count": 5,
   "id": "441f0a5d-1900-4b8e-bfd1-3b375b5bed0d",
   "metadata": {},
   "outputs": [],
   "source": [
    "fisa_rangos = [(0.2, 0.35), (0.045, 0.075), (0.95,1.05), (1,4)]\n",
    "fisa_rangos_yr = []\n",
    "for i in range(len(fisa_rangos)):\n",
    "    fisa_rango_lim = []\n",
    "    for j in range(len(fisa_rangos[i])):\n",
    "        fisa_rango_lim.append(fisa_rangos[i][j]*1000000000)\n",
    "    fisa_rangos_yr.append(fisa_rango_lim)"
   ]
  },
  {
   "cell_type": "code",
   "execution_count": 6,
   "id": "faa66aa2-aa8c-41c0-9534-c1bd802aeb72",
   "metadata": {},
   "outputs": [
    {
     "data": {
      "text/plain": [
       "[[200000000.0, 350000000.0],\n",
       " [45000000.0, 75000000.0],\n",
       " [950000000.0, 1050000000.0],\n",
       " [1000000000, 4000000000]]"
      ]
     },
     "execution_count": 6,
     "metadata": {},
     "output_type": "execute_result"
    }
   ],
   "source": [
    "fisa_rangos_yr"
   ]
  },
  {
   "cell_type": "code",
   "execution_count": 7,
   "id": "d92c70cd-5fd6-4fda-8baa-493cdfb6f3d8",
   "metadata": {},
   "outputs": [],
   "source": [
    "# Extraer alturas y posiciones\n",
    "fisa_mins = [r[0] for r in fisa_rangos_yr]\n",
    "fisa_alturas = [r[1] - r[0] for r in fisa_rangos_yr]"
   ]
  },
  {
   "cell_type": "code",
   "execution_count": 8,
   "id": "31412eb4-5f74-40a1-9813-c7987531eb02",
   "metadata": {},
   "outputs": [],
   "source": [
    "DD = [(0.04, 0.35), (0, 0.04), (2.5, 20), (2.5, 20)]\n",
    "\n",
    "DD_yr = []\n",
    "for i in range(len(DD)):\n",
    "    DD_lim = []\n",
    "    for j in range(len(DD[i])):\n",
    "        DD_lim.append(DD[i][j]*1000000000)\n",
    "    DD_yr.append(DD_lim)\n",
    "    \n",
    "# Extraer alturas y posiciones\n",
    "DD_mins = [r[0] for r in DD_yr]\n",
    "DD_alturas = [r[1] - r[0] for r in DD_yr]"
   ]
  },
  {
   "cell_type": "code",
   "execution_count": 9,
   "id": "f659cbb7-bc19-484c-9364-7d42546c8704",
   "metadata": {},
   "outputs": [],
   "source": [
    "BA1 = [(0.01, 0.5), (0.01, 0.05), (0, 0.01), (0, 0.01)]\n",
    "\n",
    "BA1_yr = []\n",
    "for i in range(len(BA1)):\n",
    "    BA1_lim = []\n",
    "    for j in range(len(BA1[i])):\n",
    "        BA1_lim.append(BA1[i][j]*1000000000)\n",
    "    BA1_yr.append(BA1_lim)\n",
    "    \n",
    "# Extraer alturas y posiciones\n",
    "BA1_mins = [r[0] for r in BA1_yr]\n",
    "BA1_alturas = [r[1] - r[0] for r in BA1_yr]"
   ]
  },
  {
   "cell_type": "code",
   "execution_count": 10,
   "id": "efc4bbf7-bc5c-436d-834b-2dd6e463c9c2",
   "metadata": {},
   "outputs": [],
   "source": [
    "BA2 = [(16.5, 20), (16.5, 20), (16.5, 20), (16.5, 20)]\n",
    "\n",
    "BA2_yr = []\n",
    "for i in range(len(BA2)):\n",
    "    BA2_lim = []\n",
    "    for j in range(len(BA2[i])):\n",
    "        BA2_lim.append(BA2[i][j]*1000000000)\n",
    "    BA2_yr.append(BA2_lim)\n",
    "    \n",
    "# Extraer alturas y posiciones\n",
    "BA2_mins = [r[0] for r in BA2_yr]\n",
    "BA2_alturas = [r[1] - r[0] for r in BA2_yr]"
   ]
  },
  {
   "cell_type": "code",
   "execution_count": 18,
   "id": "3dc1e5e9-c0fb-44b7-b16f-3ef9172fb3c5",
   "metadata": {},
   "outputs": [],
   "source": [
    "FEDE_SM = [0.027, 4.3, 1.0, 0.5]\n",
    "FEDE_SM_einf = [0.006,0.9,0.2,0.1]\n",
    "FEDE_SM_esup = [0.007,1.1,0.3,0.1]\n",
    "\n",
    "FEDE_SM_yr = []\n",
    "FEDE_SM_einf_yr = []\n",
    "FEDE_SM_esup_yr = []\n",
    "for i in range(len(FEDE_SM)):\n",
    "    FEDE_SM_yr.append(FEDE_SM[i] * 1000000000)\n",
    "    FEDE_SM_einf_yr.append(FEDE_SM_einf[i] * 1000000000)\n",
    "    FEDE_SM_esup_yr.append(FEDE_SM_esup[i] * 1000000000)"
   ]
  },
  {
   "cell_type": "code",
   "execution_count": 16,
   "id": "e45c9286-64ee-41b1-bebe-f27c0aefe3af",
   "metadata": {},
   "outputs": [],
   "source": [
    "FEDE_SH1 = [0, 0.023, 0.006, 0.004]\n",
    "FEDE_SH1_einf = [0,0.005,0.001,0.0008]\n",
    "FEDE_SH1_esup = [0,0.006,0.002,0.001]\n",
    "\n",
    "FEDE_SH1_yr = []\n",
    "FEDE_SH1_einf_yr = []\n",
    "FEDE_SH1_esup_yr = []\n",
    "for i in range(len(FEDE_SH1)):\n",
    "    FEDE_SH1_yr.append(FEDE_SH1[i] * 1000000000)\n",
    "    FEDE_SH1_einf_yr.append(FEDE_SH1_einf[i] * 1000000000)\n",
    "    FEDE_SH1_esup_yr.append(FEDE_SH1_esup[i] * 1000000000)"
   ]
  },
  {
   "cell_type": "code",
   "execution_count": 13,
   "id": "d80ede2a-9e20-44c1-ac72-67097d38584a",
   "metadata": {},
   "outputs": [],
   "source": [
    "FEDE_SH2 = [0, 6, 14, 14]\n",
    "FEDE_SH2_einf = [0,1,3,3]\n",
    "FEDE_SH2_esup = [0,2,4,4]\n",
    "\n",
    "FEDE_SH2_yr = []\n",
    "FEDE_SH2_einf_yr = []\n",
    "FEDE_SH2_esup_yr = []\n",
    "for i in range(len(FEDE_SH2)):\n",
    "    FEDE_SH2_yr.append(FEDE_SH2[i] * 1000000000)\n",
    "    FEDE_SH2_einf_yr.append(FEDE_SH2_einf[i] * 1000000000)\n",
    "    FEDE_SH2_esup_yr.append(FEDE_SH2_esup[i] * 1000000000)"
   ]
  },
  {
   "cell_type": "code",
   "execution_count": null,
   "id": "50063a31-5245-47cc-8a3c-43a6e97210f8",
   "metadata": {},
   "outputs": [],
   "source": []
  },
  {
   "cell_type": "code",
   "execution_count": 23,
   "id": "4ff33c1f-fc5d-4939-ae14-e6cc7e528826",
   "metadata": {},
   "outputs": [
    {
     "data": {
      "image/png": "[encoded data removed]",
      "text/plain": [
       "<Figure size 1500x600 with 1 Axes>"
      ]
     },
     "metadata": {},
     "output_type": "display_data"
    }
   ],
   "source": [
    "plt.figure(figsize=(15,6), facecolor='#1e1f24ff')\n",
    "plt.style.use('dark_background')\n",
    "\n",
    "plt.subplot(facecolor='#1e1f24ff')\n",
    "\n",
    "plt.grid(color='gray', linestyle='--', linewidth=0.8, alpha= 0.5)\n",
    "\n",
    "# Obtener el objeto de los ejes actuales\n",
    "ax = plt.gca()\n",
    "\n",
    "# Cambiar el color de los ejes\n",
    "ax.spines['top'].set_color('#f1c232')\n",
    "ax.spines['bottom'].set_color('#f1c232')\n",
    "ax.spines['left'].set_color('#f1c232')\n",
    "ax.spines['right'].set_color('#f1c232')\n",
    "\n",
    "# Cambiar el color de las etiquetas de los ejes (ticks)\n",
    "ax.tick_params(axis='x', colors='#f1c232', labelsize=14, rotation=15)  # Color de las etiquetas en el eje X\n",
    "ax.tick_params(axis='y', colors='#f1c232', labelsize=14)  # Color de las etiquetas en el eje Y\n",
    "\n",
    "\n",
    "# Cambiar el color de las etiquetas de los ejes (nombres de los ejes X e Y)\n",
    "ax.set_xlabel('', color='#f1c232', fontsize=14)\n",
    "ax.set_ylabel('Nombre del Eje Y', color='#f1c232')\n",
    "\n",
    "\n",
    "x = np.arange(0, 4)\n",
    "\n",
    "#BA1\n",
    "plt.bar(x-0.05, BA1_alturas, bottom=BA1_mins, width=0.05, alpha=0.5, color='limegreen', label='B&A')\n",
    "#BA2\n",
    "plt.bar(x-0.05, BA2_alturas, bottom=BA2_mins, width=0.05, alpha=0.5, color='limegreen')\n",
    "\n",
    "#DD\n",
    "plt.bar(x+0.05, DD_alturas, bottom=DD_mins, width=0.05, alpha=0.5, color='orangered', label='DD')\n",
    "\n",
    "#Fede SM\n",
    "plt.scatter(labels, FEDE_SM_yr, marker='o', c='blueviolet', s = 200, alpha=0.5, label='SR22')\n",
    "plt.errorbar(labels, FEDE_SM_yr, yerr=(FEDE_SM_einf_yr, FEDE_SM_esup_yr), fmt='.', c='blueviolet', capsize=5, alpha=0.8)\n",
    "\n",
    "#Fede SH1\n",
    "plt.scatter(labels, FEDE_SH1_yr, marker='o', c='blueviolet', s = 200, alpha=0.5)\n",
    "plt.errorbar(labels, FEDE_SH1_yr, yerr=(FEDE_SH1_einf_yr, FEDE_SH1_esup_yr), fmt='.', c='blueviolet', capsize=5, alpha=0.8)\n",
    "\n",
    "\n",
    "#Fede SH2\n",
    "plt.scatter(labels, FEDE_SH2_yr, marker='o', c='blueviolet', s = 200, alpha=0.5)\n",
    "plt.errorbar(labels, FEDE_SH2_yr, yerr=(FEDE_SH2_einf_yr, FEDE_SH2_esup_yr), fmt='.', c='blueviolet', capsize=5, alpha=0.8)\n",
    "\n",
    "plt.ylabel('Edad [años]', fontsize=14)\n",
    "plt.legend(markerscale=0.7, facecolor='#1e1f24ff', labelcolor='#f1c232', edgecolor='#f1c232', fontsize=14, loc= (0.01,0.75))\n",
    "\n",
    "plt.yscale('log')\n",
    "\n",
    "plt.ylim(3000000,20000000000)\n",
    "\n",
    "\n",
    "plt.savefig('comp_AE4.png', bbox_inches='tight', facecolor='#1e1f24ff')\n",
    "\n"
   ]
  },
  {
   "cell_type": "code",
   "execution_count": null,
   "id": "bd85fc98-013f-4313-abe1-127b2bae04c3",
   "metadata": {},
   "outputs": [],
   "source": []
  },
  {
   "cell_type": "code",
   "execution_count": null,
   "id": "e18f5b5f-06c8-47a6-a50e-0e0101f79ac4",
   "metadata": {},
   "outputs": [],
   "source": []
  }
 ],
 "metadata": {
  "kernelspec": {
   "display_name": "Python 3 (ipykernel)",
   "language": "python",
   "name": "python3"
  },
  "language_info": {
   "codemirror_mode": {
    "name": "ipython",
    "version": 3
   },
   "file_extension": ".py",
   "mimetype": "text/x-python",
   "name": "python",
   "nbconvert_exporter": "python",
   "pygments_lexer": "ipython3",
   "version": "3.12.1"
  }
 },
 "nbformat": 4,
 "nbformat_minor": 5
}
